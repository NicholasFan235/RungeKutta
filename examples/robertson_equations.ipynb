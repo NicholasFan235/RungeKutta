{
 "cells": [
  {
   "cell_type": "markdown",
   "metadata": {},
   "source": [
    "# Solve the Robertson Equations\n",
    "Solve the Robertson Equations using Explicit methods\n",
    "These equations are a stiff system, and so explicit methods can have trouble integrating.\n",
    "\n",
    "Robertson Equations:\n",
    "$\n",
    "\\frac{dx}{dt} = -0.04x + 10000yz \\\\\n",
    "\\frac{dy}{dt} = 0.04x - 10000yz - 30000000y^2 \\\\\n",
    "\\frac{dz}{dt} = 30000000y^2\n",
    "$"
   ]
  },
  {
   "cell_type": "code",
   "execution_count": 1,
   "metadata": {},
   "outputs": [],
   "source": [
    "import sys\n",
    "import os\n",
    "sys.path.append(os.path.join(os.getcwd(), \"..\"))\n",
    "import rungekutta as rk\n",
    "import numpy as np\n",
    "import pandas as pd\n",
    "from plotnine import *\n",
    "import time"
   ]
  },
  {
   "cell_type": "code",
   "execution_count": null,
   "metadata": {},
   "outputs": [],
   "source": [
    "def robertson_rhs(y, t):\n",
    "    return np.ndarray([\n",
    "        -0.04 * y[0] + 10000 * y[1] * y[2],\n",
    "        0.04 * y[0] - 10000 * y[1] * y[2] - 30000000 * y[1] * y[1],\n",
    "        30000000 * y[1] * y[1]\n",
    "    ], dtype=float)"
   ]
  },
  {
   "cell_type": "code",
   "execution_count": null,
   "metadata": {},
   "outputs": [],
   "source": []
  }
 ],
 "metadata": {
  "interpreter": {
   "hash": "31f2aee4e71d21fbe5cf8b01ff0e069b9275f58929596ceb00d14d90e3e16cd6"
  },
  "kernelspec": {
   "display_name": "Python 3.8.10 64-bit",
   "language": "python",
   "name": "python3"
  },
  "language_info": {
   "codemirror_mode": {
    "name": "ipython",
    "version": 3
   },
   "file_extension": ".py",
   "mimetype": "text/x-python",
   "name": "python",
   "nbconvert_exporter": "python",
   "pygments_lexer": "ipython3",
   "version": "3.8.10"
  },
  "orig_nbformat": 4
 },
 "nbformat": 4,
 "nbformat_minor": 2
}
